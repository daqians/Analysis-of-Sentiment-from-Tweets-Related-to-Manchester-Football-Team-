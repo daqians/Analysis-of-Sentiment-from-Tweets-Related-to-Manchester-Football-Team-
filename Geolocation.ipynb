{
 "cells": [
  {
   "cell_type": "code",
   "execution_count": 1,
   "metadata": {},
   "outputs": [
    {
     "name": "stderr",
     "output_type": "stream",
     "text": [
      "/anaconda/lib/python3.6/site-packages/ipykernel_launcher.py:5: DeprecationWarning: 'U' mode is deprecated\n",
      "  \"\"\"\n",
      "/anaconda/lib/python3.6/site-packages/IPython/core/interactiveshell.py:2717: DtypeWarning: Columns (5) have mixed types. Specify dtype option on import or set low_memory=False.\n",
      "  interactivity=interactivity, compiler=compiler, result=result)\n",
      "/anaconda/lib/python3.6/site-packages/ipykernel_launcher.py:6: DeprecationWarning: 'U' mode is deprecated\n",
      "  \n"
     ]
    }
   ],
   "source": [
    "import pandas as pd\n",
    "import tweepy\n",
    "import re\n",
    "\n",
    "MU=pd.read_csv(open('MU-geo.csv','rU'),sep=',')\n",
    "MC=pd.read_csv(open('MC-geo.csv','rU'),sep=',')"
   ]
  },
  {
   "cell_type": "code",
   "execution_count": 3,
   "metadata": {
    "collapsed": true
   },
   "outputs": [],
   "source": [
    "MU['geocode']=''\n",
    "MC['geocode']=''\n",
    "MU['lat']=''\n",
    "MU['lon']=''\n",
    "MC['lat']=''\n",
    "MC['lon']=''\n",
    "MU['co']=False\n",
    "MC['co']=False"
   ]
  },
  {
   "cell_type": "code",
   "execution_count": 13,
   "metadata": {
    "collapsed": true
   },
   "outputs": [],
   "source": [
    "MC.to_csv(\"MC-geo.csv\",index=False,sep=',')\n",
    "MU.to_csv(\"MU-geo.csv\",index=False,sep=',')"
   ]
  },
  {
   "cell_type": "code",
   "execution_count": null,
   "metadata": {
    "collapsed": true
   },
   "outputs": [],
   "source": [
    "MUp=pd.read_csv(open('MUp-geo.csv','rU'),sep=',')\n",
    "MCp=pd.read_csv(open('MCp-geo.csv','rU'),sep=',')\n",
    "\n",
    "MUp=MUp.reset_index(drop=True)\n",
    "MCp=MCp.reset_index(drop=True)"
   ]
  },
  {
   "cell_type": "code",
   "execution_count": null,
   "metadata": {
    "collapsed": true
   },
   "outputs": [],
   "source": [
    "from geopy.geocoders import ArcGIS, Nominatim, OpenCage, GoogleV3, DataBC\n",
    "\n",
    "\n",
    "print('creating geocoding objects!')\n",
    "\n",
    "arcgis = ArcGIS(timeout=100)\n",
    "nominatim = Nominatim(timeout=100)\n",
    "geocoderDotUS = GeocoderDotUS(timeout=100)\n",
    "googlev3 = GoogleV3(timeout=100)\n",
    "openmapquest = OpenMapQuest(timeout=100)\n",
    "\n",
    "\n",
    "# choose and order your preference for geocoders here\n",
    "geocoders = [arcgis, nominatim,geocoderDotUS,googlev3,openmapquest]\n",
    "\n",
    "def geocode(address,i):\n",
    "    try:\n",
    "        # try to geocode using a service\n",
    "        place, (lat, lng) = geocoders[(i+1)%5].geocode(address)\n",
    "        # if it returns a location\n",
    "        if place != None:\n",
    "            return place, lat, lng\n",
    "        else:\n",
    "            return 'null','null','null'\n",
    "    except:\n",
    "        # catch whatever errors, likely timeout, and return null values\n",
    "        return 'null','null','null'\n",
    "\n",
    "    # if all services have failed to geocode, return null values\n",
    "    return 'null','null','null'\n",
    "\n"
   ]
  },
  {
   "cell_type": "code",
   "execution_count": null,
   "metadata": {
    "collapsed": true
   },
   "outputs": [],
   "source": [
    "for i in range(len(MCp)):\n",
    "    \n",
    "    try:\n",
    "        # configure this based upon your input CSV file\n",
    "        place, lat, lng = geocode(MCp['location'][i])\n",
    "        MCp['geocode'][i]=place\n",
    "        MCp['lat'][i]=lat\n",
    "        MCp['lon'][i]=lng\n",
    "        MCp['co'][i]=True\n",
    "    print(i,place)\n",
    "\n",
    "\n",
    "    except BaseException as e:\n",
    "        print(e)\n",
    "\n"
   ]
  },
  {
   "cell_type": "code",
   "execution_count": null,
   "metadata": {
    "collapsed": true
   },
   "outputs": [],
   "source": [
    "str_temp = '{\"lat\":' + str(lat) + ',\"lng\":' + str(lng) + ',\"count\":' + str(c) +'},'"
   ]
  }
 ],
 "metadata": {
  "kernelspec": {
   "display_name": "Python 3",
   "language": "python",
   "name": "python3"
  },
  "language_info": {
   "codemirror_mode": {
    "name": "ipython",
    "version": 3
   },
   "file_extension": ".py",
   "mimetype": "text/x-python",
   "name": "python",
   "nbconvert_exporter": "python",
   "pygments_lexer": "ipython3",
   "version": "3.6.1"
  }
 },
 "nbformat": 4,
 "nbformat_minor": 2
}
